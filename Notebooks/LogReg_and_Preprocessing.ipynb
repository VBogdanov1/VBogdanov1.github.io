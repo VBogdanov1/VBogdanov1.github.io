{
 "cells": [
  {
   "cell_type": "markdown",
   "metadata": {},
   "source": [
    "## Preprocessing and Logistic Regression for Binary Classification Problems | Vladimir Bogdanov"
   ]
  },
  {
   "cell_type": "markdown",
   "metadata": {},
   "source": [
    "### Objective: for 38 indicators related to the grant application (the area of research of scientists, information on their academic background, the size of the grant, the area in which it is issued, etc.), to predict whether the application will be accepted. The DataNet includes information on 6,000 applications for grants that were submitted to the University of Melbourne between 2004 and 2008.\n",
    "\n",
    "### A full version of the data with a large number of features can be found at https://www.kaggle.com/c/unimelb."
   ]
  },
  {
   "cell_type": "markdown",
   "metadata": {},
   "source": [
    "### The main aim of this notebook was to train in data preprocessing since it is crucial step of data analysis and common mistake is to pay too little attention to it. I'll wotk through: \n",
    "- processing of missing values\n",
    "- handling of categorical attributes\n",
    "- stratification\n",
    "- class balancing\n",
    "- scaling\n",
    "\n"
   ]
  },
  {
   "cell_type": "code",
   "execution_count": 1,
   "metadata": {
    "collapsed": true
   },
   "outputs": [],
   "source": [
    "import pandas as pd\n",
    "import numpy as np\n",
    "import matplotlib\n",
    "from matplotlib import pyplot as plt\n",
    "matplotlib.style.use('ggplot')\n",
    "%matplotlib inline"
   ]
  },
  {
   "cell_type": "code",
   "execution_count": 2,
   "metadata": {
    "collapsed": false
   },
   "outputs": [
    {
     "data": {
      "text/plain": [
       "(6000, 39)"
      ]
     },
     "execution_count": 2,
     "metadata": {},
     "output_type": "execute_result"
    }
   ],
   "source": [
    "data = pd.read_csv('data.csv')\n",
    "data.shape"
   ]
  },
  {
   "cell_type": "code",
   "execution_count": 3,
   "metadata": {
    "collapsed": false
   },
   "outputs": [],
   "source": [
    "X = data.drop('Grant.Status', 1)\n",
    "y = data['Grant.Status']"
   ]
  },
  {
   "cell_type": "markdown",
   "metadata": {},
   "source": [
    "Theory of LogReg briefly just to skip explanations further: \n",
    "\n",
    "Logistic regression predicts the probabilities of belonging to each class. The sum of logistic regression responses on a single object for all classes is one.\n",
    "\n",
    "$$ \\sum_{k=1}^K \\pi_{ik} = 1, \\quad \\pi_k \\equiv P\\,(y_i = k \\mid x_i, \\theta), $$\n",
    "\n",
    "where:\n",
    "- $\\pi_{ik}$ - probability of the object $x_i$ from sample $X$ to the class $k$\n",
    "- $\\theta$ - internal parameters of the algorithm, which are configured in the learning process, in the case of logistic regression - $w, b$\n",
    "\n",
    "From this property of the model in the case of a binary classification, it is only necessary to calculate the probability of an object belonging to one of the classes (the second is calculated from the condition for the normalization of probabilities). This probability is calculated using the logistic function:\n",
    "\n",
    "$$ P\\,(y_i = 1 \\mid x_i, \\theta) = \\frac{1}{1 + \\exp(-w^T x_i-b)} $$\n",
    "\n",
    "The parameters $ w $ and $ b $ are found as solutions of the following optimization problem:\n",
    "\n",
    "L2-regularization:\n",
    "\n",
    "$$ Q(X, y, \\theta) = \\frac{1}{2} w^T w + C \\sum_{i=1}^l \\log ( 1 + \\exp(-y_i (w^T x_i + b ) ) ) \\longrightarrow \\min\\limits_{w,b} $$\n",
    "\n",
    "L1-regularization:\n",
    "\n",
    "$$ Q(X, y, \\theta) = \\sum_{d=1}^D |w_d| + C \\sum_{i=1}^l \\log ( 1 + \\exp(-y_i (w^T x_i + b ) ) ) \\longrightarrow \\min\\limits_{w,b} $$\n",
    "\n",
    "$C$ - This is a standard model hyperparameter that regulates how much the model is allowed to adjust to the data."
   ]
  },
  {
   "cell_type": "markdown",
   "metadata": {},
   "source": [
    "## Data preprocessing "
   ]
  },
  {
   "cell_type": "markdown",
   "metadata": {},
   "source": [
    "From the properties of this model it follows that:\n",
    "- all $ X $ must be numerical data (if there are categories among them, they need to be converted into real numbers in some way)\n",
    "- there should be no missing values among $ X $ (that is, all missing values must be filled in some way before applying the model)\n",
    "\n",
    "Therefore, the basic step in preprocessing any dataset for logistic regression will be coding of categorical features, as well as removing or interpreting missing values (if one or the other exists)."
   ]
  },
  {
   "cell_type": "code",
   "execution_count": 4,
   "metadata": {
    "collapsed": false
   },
   "outputs": [
    {
     "data": {
      "text/html": [
       "<div>\n",
       "<style>\n",
       "    .dataframe thead tr:only-child th {\n",
       "        text-align: right;\n",
       "    }\n",
       "\n",
       "    .dataframe thead th {\n",
       "        text-align: left;\n",
       "    }\n",
       "\n",
       "    .dataframe tbody tr th {\n",
       "        vertical-align: top;\n",
       "    }\n",
       "</style>\n",
       "<table border=\"1\" class=\"dataframe\">\n",
       "  <thead>\n",
       "    <tr style=\"text-align: right;\">\n",
       "      <th></th>\n",
       "      <th>Grant.Status</th>\n",
       "      <th>Sponsor.Code</th>\n",
       "      <th>Grant.Category.Code</th>\n",
       "      <th>Contract.Value.Band...see.note.A</th>\n",
       "      <th>RFCD.Code.1</th>\n",
       "      <th>RFCD.Percentage.1</th>\n",
       "      <th>RFCD.Code.2</th>\n",
       "      <th>RFCD.Percentage.2</th>\n",
       "      <th>RFCD.Code.3</th>\n",
       "      <th>RFCD.Percentage.3</th>\n",
       "      <th>...</th>\n",
       "      <th>Dept.No..1</th>\n",
       "      <th>Faculty.No..1</th>\n",
       "      <th>With.PHD.1</th>\n",
       "      <th>No..of.Years.in.Uni.at.Time.of.Grant.1</th>\n",
       "      <th>Number.of.Successful.Grant.1</th>\n",
       "      <th>Number.of.Unsuccessful.Grant.1</th>\n",
       "      <th>A..1</th>\n",
       "      <th>A.1</th>\n",
       "      <th>B.1</th>\n",
       "      <th>C.1</th>\n",
       "    </tr>\n",
       "  </thead>\n",
       "  <tbody>\n",
       "    <tr>\n",
       "      <th>0</th>\n",
       "      <td>1</td>\n",
       "      <td>21A</td>\n",
       "      <td>50A</td>\n",
       "      <td>A</td>\n",
       "      <td>230202.0</td>\n",
       "      <td>50.0</td>\n",
       "      <td>230203.0</td>\n",
       "      <td>30.0</td>\n",
       "      <td>230204.0</td>\n",
       "      <td>20.0</td>\n",
       "      <td>...</td>\n",
       "      <td>3098.0</td>\n",
       "      <td>31.0</td>\n",
       "      <td>Yes</td>\n",
       "      <td>&gt;=0 to 5</td>\n",
       "      <td>2.0</td>\n",
       "      <td>0.0</td>\n",
       "      <td>0.0</td>\n",
       "      <td>4.0</td>\n",
       "      <td>2.0</td>\n",
       "      <td>0.0</td>\n",
       "    </tr>\n",
       "    <tr>\n",
       "      <th>1</th>\n",
       "      <td>1</td>\n",
       "      <td>4D</td>\n",
       "      <td>10A</td>\n",
       "      <td>D</td>\n",
       "      <td>320801.0</td>\n",
       "      <td>100.0</td>\n",
       "      <td>0.0</td>\n",
       "      <td>0.0</td>\n",
       "      <td>0.0</td>\n",
       "      <td>0.0</td>\n",
       "      <td>...</td>\n",
       "      <td>2553.0</td>\n",
       "      <td>25.0</td>\n",
       "      <td>Yes</td>\n",
       "      <td>&gt;=0 to 5</td>\n",
       "      <td>3.0</td>\n",
       "      <td>1.0</td>\n",
       "      <td>0.0</td>\n",
       "      <td>2.0</td>\n",
       "      <td>0.0</td>\n",
       "      <td>0.0</td>\n",
       "    </tr>\n",
       "    <tr>\n",
       "      <th>2</th>\n",
       "      <td>0</td>\n",
       "      <td>NaN</td>\n",
       "      <td>NaN</td>\n",
       "      <td>NaN</td>\n",
       "      <td>320602.0</td>\n",
       "      <td>50.0</td>\n",
       "      <td>321004.0</td>\n",
       "      <td>30.0</td>\n",
       "      <td>321015.0</td>\n",
       "      <td>20.0</td>\n",
       "      <td>...</td>\n",
       "      <td>2813.0</td>\n",
       "      <td>25.0</td>\n",
       "      <td>NaN</td>\n",
       "      <td>Less than 0</td>\n",
       "      <td>1.0</td>\n",
       "      <td>5.0</td>\n",
       "      <td>0.0</td>\n",
       "      <td>7.0</td>\n",
       "      <td>2.0</td>\n",
       "      <td>0.0</td>\n",
       "    </tr>\n",
       "    <tr>\n",
       "      <th>3</th>\n",
       "      <td>0</td>\n",
       "      <td>51C</td>\n",
       "      <td>20C</td>\n",
       "      <td>A</td>\n",
       "      <td>291503.0</td>\n",
       "      <td>60.0</td>\n",
       "      <td>321402.0</td>\n",
       "      <td>40.0</td>\n",
       "      <td>0.0</td>\n",
       "      <td>0.0</td>\n",
       "      <td>...</td>\n",
       "      <td>2553.0</td>\n",
       "      <td>25.0</td>\n",
       "      <td>NaN</td>\n",
       "      <td>more than 15</td>\n",
       "      <td>2.0</td>\n",
       "      <td>1.0</td>\n",
       "      <td>5.0</td>\n",
       "      <td>6.0</td>\n",
       "      <td>9.0</td>\n",
       "      <td>1.0</td>\n",
       "    </tr>\n",
       "    <tr>\n",
       "      <th>4</th>\n",
       "      <td>0</td>\n",
       "      <td>24D</td>\n",
       "      <td>30B</td>\n",
       "      <td>NaN</td>\n",
       "      <td>380107.0</td>\n",
       "      <td>100.0</td>\n",
       "      <td>0.0</td>\n",
       "      <td>0.0</td>\n",
       "      <td>0.0</td>\n",
       "      <td>0.0</td>\n",
       "      <td>...</td>\n",
       "      <td>2923.0</td>\n",
       "      <td>25.0</td>\n",
       "      <td>NaN</td>\n",
       "      <td>Less than 0</td>\n",
       "      <td>0.0</td>\n",
       "      <td>2.0</td>\n",
       "      <td>0.0</td>\n",
       "      <td>0.0</td>\n",
       "      <td>0.0</td>\n",
       "      <td>0.0</td>\n",
       "    </tr>\n",
       "  </tbody>\n",
       "</table>\n",
       "<p>5 rows × 39 columns</p>\n",
       "</div>"
      ],
      "text/plain": [
       "   Grant.Status Sponsor.Code Grant.Category.Code  \\\n",
       "0             1          21A                 50A   \n",
       "1             1           4D                 10A   \n",
       "2             0          NaN                 NaN   \n",
       "3             0          51C                 20C   \n",
       "4             0          24D                 30B   \n",
       "\n",
       "  Contract.Value.Band...see.note.A  RFCD.Code.1  RFCD.Percentage.1  \\\n",
       "0                               A      230202.0               50.0   \n",
       "1                               D      320801.0              100.0   \n",
       "2                              NaN     320602.0               50.0   \n",
       "3                               A      291503.0               60.0   \n",
       "4                              NaN     380107.0              100.0   \n",
       "\n",
       "   RFCD.Code.2  RFCD.Percentage.2  RFCD.Code.3  RFCD.Percentage.3 ...   \\\n",
       "0     230203.0               30.0     230204.0               20.0 ...    \n",
       "1          0.0                0.0          0.0                0.0 ...    \n",
       "2     321004.0               30.0     321015.0               20.0 ...    \n",
       "3     321402.0               40.0          0.0                0.0 ...    \n",
       "4          0.0                0.0          0.0                0.0 ...    \n",
       "\n",
       "   Dept.No..1  Faculty.No..1  With.PHD.1  \\\n",
       "0      3098.0           31.0        Yes    \n",
       "1      2553.0           25.0        Yes    \n",
       "2      2813.0           25.0         NaN   \n",
       "3      2553.0           25.0         NaN   \n",
       "4      2923.0           25.0         NaN   \n",
       "\n",
       "   No..of.Years.in.Uni.at.Time.of.Grant.1  Number.of.Successful.Grant.1  \\\n",
       "0                                >=0 to 5                           2.0   \n",
       "1                                >=0 to 5                           3.0   \n",
       "2                             Less than 0                           1.0   \n",
       "3                            more than 15                           2.0   \n",
       "4                             Less than 0                           0.0   \n",
       "\n",
       "   Number.of.Unsuccessful.Grant.1  A..1  A.1  B.1  C.1  \n",
       "0                             0.0   0.0  4.0  2.0  0.0  \n",
       "1                             1.0   0.0  2.0  0.0  0.0  \n",
       "2                             5.0   0.0  7.0  2.0  0.0  \n",
       "3                             1.0   5.0  6.0  9.0  1.0  \n",
       "4                             2.0   0.0  0.0  0.0  0.0  \n",
       "\n",
       "[5 rows x 39 columns]"
      ]
     },
     "execution_count": 4,
     "metadata": {},
     "output_type": "execute_result"
    }
   ],
   "source": [
    "data.head()"
   ]
  },
  {
   "cell_type": "markdown",
   "metadata": {},
   "source": [
    "It can be seen that there are both numeric and categorical characteristics in the dataset. Let's get lists of their names:"
   ]
  },
  {
   "cell_type": "code",
   "execution_count": 5,
   "metadata": {
    "collapsed": false
   },
   "outputs": [],
   "source": [
    "numeric_cols = ['RFCD.Percentage.1', 'RFCD.Percentage.2', 'RFCD.Percentage.3', \n",
    "                'RFCD.Percentage.4', 'RFCD.Percentage.5',\n",
    "                'SEO.Percentage.1', 'SEO.Percentage.2', 'SEO.Percentage.3',\n",
    "                'SEO.Percentage.4', 'SEO.Percentage.5',\n",
    "                'Year.of.Birth.1', 'Number.of.Successful.Grant.1', 'Number.of.Unsuccessful.Grant.1']\n",
    "categorical_cols = list(set(X.columns.values.tolist()) - set(numeric_cols))\n"
   ]
  },
  {
   "cell_type": "markdown",
   "metadata": {},
   "source": [
    "Also, it contains missing values. The obvious solution is to exclude all data that have at least one missing value. Let's do it:"
   ]
  },
  {
   "cell_type": "code",
   "execution_count": 6,
   "metadata": {
    "collapsed": false
   },
   "outputs": [
    {
     "data": {
      "text/plain": [
       "(213, 39)"
      ]
     },
     "execution_count": 6,
     "metadata": {},
     "output_type": "execute_result"
    }
   ],
   "source": [
    "data.dropna().shape"
   ]
  },
  {
   "cell_type": "markdown",
   "metadata": {},
   "source": [
    "It is evident that then we will throw out almost all the data, and this method of solution in this case does not work.\n",
    "\n",
    "Missing values can also be interpreted, for this there are several ways, they differ for categorical and material characteristics.\n",
    "\n",
    "For real features:\n",
    "- replace by 0 (this attribute will not contribute to the prediction for this object)\n",
    "- replaced by the average (each missed attribute will give the same contribution as the average value of the attribute on the dataset)\n",
    "\n",
    "For categorical:\n",
    "- interpret the missing value as another category (this method is the most natural, since in the case of categories we have a unique opportunity not to lose information about the presence of missed values, please note that in case of material attributes this information is inevitably lost)"
   ]
  },
  {
   "cell_type": "markdown",
   "metadata": {},
   "source": [
    "##  Processing of missing values.\n",
    "### Let's do several steps to handle missing values: \n",
    "1. Fill in the missing real values in X with zeros and columns averages, name the received dataframes X_real_zeros and X_real_mean, respectively. To calculate the average, I'll use function calculate_means described below.\n",
    "2. Convert all categorical characteristics in X to strings, the missing values must also be converted to any strings that are not categories (for example, 'NA'), the resulting dataframe is X_cat."
   ]
  },
  {
   "cell_type": "code",
   "execution_count": 7,
   "metadata": {
    "collapsed": true
   },
   "outputs": [],
   "source": [
    "?np.nonzero"
   ]
  },
  {
   "cell_type": "code",
   "execution_count": 8,
   "metadata": {
    "collapsed": true
   },
   "outputs": [],
   "source": [
    "def calculate_means(numeric_data):\n",
    "    means = np.zeros(numeric_data.shape[1])\n",
    "    for j in range(numeric_data.shape[1]):\n",
    "        to_sum = numeric_data.iloc[:,j]\n",
    "        indices = np.nonzero(~numeric_data.iloc[:,j].isnull())[0]\n",
    "        correction = np.amax(to_sum[indices])\n",
    "        to_sum /= correction\n",
    "        for i in indices:\n",
    "            means[j] += to_sum[i]\n",
    "        means[j] /= indices.size\n",
    "        means[j] *= correction\n",
    "    return pd.Series(means, numeric_data.columns)"
   ]
  },
  {
   "cell_type": "code",
   "execution_count": 9,
   "metadata": {
    "collapsed": false
   },
   "outputs": [],
   "source": [
    "X_real_zeros = data[numeric_cols].fillna(0)\n",
    "X_real_mean = data[numeric_cols].fillna(calculate_means(data[numeric_cols]))"
   ]
  },
  {
   "cell_type": "code",
   "execution_count": 10,
   "metadata": {
    "collapsed": false
   },
   "outputs": [
    {
     "name": "stdout",
     "output_type": "stream",
     "text": [
      "          Country.of.Birth.1 SEO.Code.4 SEO.Code.5   B.1 SEO.Code.1  \\\n",
      "0                  Australia        0.0        0.0   2.0   780101.0   \n",
      "1                  Australia        0.0        0.0   0.0   730112.0   \n",
      "2                  Australia        0.0        0.0   2.0   730203.0   \n",
      "3              Great Britain        0.0        0.0   9.0   730114.0   \n",
      "4                  Australia        0.0        0.0   0.0   730108.0   \n",
      "5              Great Britain        0.0        0.0   0.0   730211.0   \n",
      "6              Great Britain        0.0        0.0   6.0   749903.0   \n",
      "7                  Australia        0.0        0.0   3.0   751003.0   \n",
      "8                         NA        0.0        0.0    NA   770703.0   \n",
      "9                  Australia        0.0        0.0  31.0   730115.0   \n",
      "10                 Australia        0.0        0.0   0.0   730106.0   \n",
      "11                 Australia        0.0        0.0   2.0   730301.0   \n",
      "12                 Australia        0.0        0.0   0.0   750307.0   \n",
      "13                 Australia   730204.0        0.0   4.0   671402.0   \n",
      "14                 Australia        0.0        0.0  17.0   729901.0   \n",
      "15                 Australia        0.0        0.0   4.0   730104.0   \n",
      "16                 Australia        0.0        0.0   1.0   750902.0   \n",
      "17                 Australia        0.0        0.0  14.0   730211.0   \n",
      "18                 Australia        0.0        0.0   6.0   759999.0   \n",
      "19                 Australia        0.0        0.0   0.0   730108.0   \n",
      "20                 Australia        0.0        0.0   5.0   770302.0   \n",
      "21                 Australia        0.0        0.0   2.0   730104.0   \n",
      "22                        NA        0.0        0.0    NA   730108.0   \n",
      "23             Great Britain        0.0        0.0   8.0   750702.0   \n",
      "24                 Australia        0.0        0.0   3.0   730303.0   \n",
      "25                 Australia        0.0        0.0   9.0   670503.0   \n",
      "26                 Australia        0.0        0.0   0.0   751005.0   \n",
      "27    Middle East and Africa        0.0        0.0   3.0   630502.0   \n",
      "28                 Australia         NA         NA  10.0         NA   \n",
      "29                 Australia        0.0        0.0   0.0   730102.0   \n",
      "...                      ...        ...        ...   ...        ...   \n",
      "5970           Great Britain        0.0        0.0   0.0   730106.0   \n",
      "5971  Middle East and Africa        0.0        0.0   3.0   730107.0   \n",
      "5972                      NA        0.0        0.0   2.0   730203.0   \n",
      "5973               Australia        0.0        0.0   2.0   780101.0   \n",
      "5974               Australia        0.0        0.0   0.0   620209.0   \n",
      "5975                      NA        0.0        0.0    NA   730108.0   \n",
      "5976               Australia        0.0        0.0   0.0   750902.0   \n",
      "5977                      NA   730299.0        0.0    NA   730211.0   \n",
      "5978               Australia        0.0        0.0   0.0   730105.0   \n",
      "5979               Australia        0.0        0.0  18.0   780102.0   \n",
      "5980            The Americas        0.0        0.0   1.0   700401.0   \n",
      "5981               Australia   780105.0        0.0   8.0   730115.0   \n",
      "5982           North America        0.0        0.0   0.0   671401.0   \n",
      "5983               Australia   730399.0        0.0   2.0   730203.0   \n",
      "5984               Australia        0.0        0.0   5.0   780103.0   \n",
      "5985            South Africa         NA         NA   2.0         NA   \n",
      "5986               Australia   700199.0        0.0   2.0   760199.0   \n",
      "5987                      NA   730108.0        0.0    NA   730102.0   \n",
      "5988               Australia         NA         NA   3.0         NA   \n",
      "5989           North America        0.0        0.0   4.0   770305.0   \n",
      "5990               Australia        0.0        0.0   0.0   750201.0   \n",
      "5991               Australia        0.0        0.0   3.0   780105.0   \n",
      "5992            Asia Pacific        0.0        0.0   2.0   680499.0   \n",
      "5993            Asia Pacific        0.0        0.0  66.0   730111.0   \n",
      "5994               Australia        0.0        0.0   2.0   730104.0   \n",
      "5995               Australia        0.0        0.0   0.0   750902.0   \n",
      "5996                      NA         NA         NA   0.0         NA   \n",
      "5997               Australia        0.0        0.0   2.0   730201.0   \n",
      "5998               Australia         NA         NA   1.0         NA   \n",
      "5999               Australia        0.0        0.0   2.0   730109.0   \n",
      "\n",
      "     SEO.Code.2 SEO.Code.3   C.1 No..of.Years.in.Uni.at.Time.of.Grant.1  \\\n",
      "0           0.0        0.0   0.0                               >=0 to 5   \n",
      "1           0.0        0.0   0.0                               >=0 to 5   \n",
      "2      730105.0   730108.0   0.0                            Less than 0   \n",
      "3      671401.0        0.0   1.0                           more than 15   \n",
      "4      730306.0        0.0   0.0                            Less than 0   \n",
      "5      730302.0        0.0   2.0                               >=0 to 5   \n",
      "6      740102.0   750309.0   0.0                               >5 to 10   \n",
      "7      750901.0   750701.0   2.0                           more than 15   \n",
      "8           0.0        0.0    NA                                     NA   \n",
      "9           0.0        0.0  15.0                           more than 15   \n",
      "10          0.0        0.0   0.0                                     NA   \n",
      "11          0.0        0.0   1.0                            Less than 0   \n",
      "12     750312.0        0.0   1.0                               >=0 to 5   \n",
      "13     730108.0   730107.0   4.0                            Less than 0   \n",
      "14          0.0        0.0  12.0                            Less than 0   \n",
      "15     730211.0        0.0   6.0                            Less than 0   \n",
      "16          0.0        0.0   0.0                               >5 to 10   \n",
      "17          0.0        0.0   1.0                              >10 to 15   \n",
      "18          0.0        0.0   2.0                            Less than 0   \n",
      "19     730107.0   730201.0   0.0                               >=0 to 5   \n",
      "20     770306.0   770102.0   4.0                           more than 15   \n",
      "21          0.0        0.0   0.0                               >5 to 10   \n",
      "22     730102.0        0.0    NA                                     NA   \n",
      "23     750703.0        0.0   0.0                           more than 15   \n",
      "24     730114.0        0.0   1.0                               >=0 to 5   \n",
      "25     670501.0        0.0   1.0                            Less than 0   \n",
      "26          0.0        0.0   0.0                                     NA   \n",
      "27     620502.0        0.0   0.0                                     NA   \n",
      "28           NA         NA   5.0                                     NA   \n",
      "29     730108.0        0.0   1.0                               >5 to 10   \n",
      "...         ...        ...   ...                                    ...   \n",
      "5970        0.0        0.0   0.0                               >=0 to 5   \n",
      "5971   730199.0        0.0   1.0                            Less than 0   \n",
      "5972   730108.0   730102.0   0.0                               >=0 to 5   \n",
      "5973        0.0        0.0   0.0                           more than 15   \n",
      "5974        0.0        0.0   0.0                            Less than 0   \n",
      "5975   730101.0        0.0    NA                                     NA   \n",
      "5976   750303.0        0.0   0.0                            Less than 0   \n",
      "5977   730306.0   730201.0    NA                                     NA   \n",
      "5978        0.0        0.0   0.0                            Less than 0   \n",
      "5979   780103.0   780105.0   4.0                           more than 15   \n",
      "5980   680403.0   680604.0   0.0                               >=0 to 5   \n",
      "5981   730116.0   730105.0  10.0                              >10 to 15   \n",
      "5982   780102.0        0.0   0.0                                     NA   \n",
      "5983   730217.0   730218.0   0.0                                     NA   \n",
      "5984   730108.0   670403.0   0.0                               >=0 to 5   \n",
      "5985         NA         NA   0.0                               >=0 to 5   \n",
      "5986   760201.0   779905.0   0.0                               >=0 to 5   \n",
      "5987   730116.0   730201.0    NA                                     NA   \n",
      "5988         NA         NA   0.0                               >=0 to 5   \n",
      "5989   780105.0   671699.0   0.0                           more than 15   \n",
      "5990        0.0        0.0   1.0                               >5 to 10   \n",
      "5991   730101.0        0.0   1.0                            Less than 0   \n",
      "5992        0.0        0.0   0.0                               >=0 to 5   \n",
      "5993   730106.0   730105.0  25.0                               >=0 to 5   \n",
      "5994   730107.0   730220.0   1.0                               >5 to 10   \n",
      "5995   750702.0   750401.0   0.0                               >=0 to 5   \n",
      "5996         NA         NA   0.0                                     NA   \n",
      "5997   730211.0   730204.0   5.0                              >10 to 15   \n",
      "5998         NA         NA   2.0                            Less than 0   \n",
      "5999   671402.0        0.0   1.0                               >5 to 10   \n",
      "\n",
      "     With.PHD.1  ...  RFCD.Code.1 Home.Language.1  A..1 Person.ID.1  \\\n",
      "0          Yes   ...     230202.0              NA   0.0    493297.0   \n",
      "1          Yes   ...     320801.0              NA   0.0    330592.0   \n",
      "2            NA  ...     320602.0              NA   0.0     66887.0   \n",
      "3            NA  ...     291503.0              NA   5.0     63812.0   \n",
      "4            NA  ...     380107.0              NA   0.0     13687.0   \n",
      "5          Yes   ...     321105.0              NA   0.0    574367.0   \n",
      "6          Yes   ...     380205.0              NA   1.0      4762.0   \n",
      "7          Yes   ...     410302.0              NA   0.0     82442.0   \n",
      "8            NA  ...     270401.0              NA    NA          NA   \n",
      "9          Yes   ...     270802.0              NA   7.0     71867.0   \n",
      "10           NA  ...     320502.0              NA   0.0    114202.0   \n",
      "11           NA  ...     330109.0              NA   0.0     81822.0   \n",
      "12         Yes   ...     380107.0              NA   0.0     28797.0   \n",
      "13           NA  ...     321202.0              NA  14.0     33167.0   \n",
      "14           NA  ...     350107.0              NA   0.0      1387.0   \n",
      "15           NA  ...     320702.0              NA   4.0     73547.0   \n",
      "16         Yes   ...     419901.0              NA   2.0     74512.0   \n",
      "17         Yes   ...     380103.0              NA   2.0     65387.0   \n",
      "18           NA  ...     370302.0              NA   0.0     74542.0   \n",
      "19           NA  ...     321015.0              NA   0.0    103002.0   \n",
      "20         Yes   ...     270702.0              NA   0.0     81792.0   \n",
      "21           NA  ...     321015.0              NA   5.0     16137.0   \n",
      "22           NA  ...     210000.0              NA    NA          NA   \n",
      "23         Yes   ...     360105.0              NA   0.0     63452.0   \n",
      "24         Yes   ...     321024.0              NA   7.0     19082.0   \n",
      "25           NA  ...     309999.0              NA   0.0     65072.0   \n",
      "26           NA  ...     430111.0              NA   0.0    102012.0   \n",
      "27         Yes   ...     300105.0              NA   0.0    297392.0   \n",
      "28           NA  ...           NA              NA   4.0     17622.0   \n",
      "29           NA  ...     270103.0              NA   5.0     98222.0   \n",
      "...         ...  ...          ...             ...   ...         ...   \n",
      "5970       Yes   ...     270602.0              NA   0.0    888697.0   \n",
      "5971         NA  ...     329903.0              NA   1.0    701397.0   \n",
      "5972         NA  ...     321008.0              NA   0.0    964402.0   \n",
      "5973       Yes   ...     291001.0              NA   0.0     16302.0   \n",
      "5974         NA  ...     300399.0              NA   0.0     11947.0   \n",
      "5975         NA  ...     320202.0              NA    NA          NA   \n",
      "5976         NA  ...     430108.0              NA   1.0     63207.0   \n",
      "5977         NA  ...     321214.0              NA    NA          NA   \n",
      "5978         NA  ...     270603.0              NA   0.0    147857.0   \n",
      "5979       Yes   ...     249901.0              NA  16.0     64807.0   \n",
      "5980       Yes   ...     291101.0           Other   1.0    718607.0   \n",
      "5981       Yes   ...     270205.0              NA   2.0       357.0   \n",
      "5982         NA  ...     240499.0              NA   4.0    500137.0   \n",
      "5983       Yes   ...     321299.0              NA   0.0    421337.0   \n",
      "5984       Yes   ...     250301.0              NA   4.0    111122.0   \n",
      "5985       Yes   ...           NA              NA   0.0    685762.0   \n",
      "5986       Yes   ...     291004.0              NA   0.0     40352.0   \n",
      "5987         NA  ...     320299.0              NA    NA          NA   \n",
      "5988         NA  ...           NA              NA   0.0      5672.0   \n",
      "5989       Yes   ...     270105.0              NA   1.0     79787.0   \n",
      "5990       Yes   ...     410301.0              NA   0.0     22792.0   \n",
      "5991         NA  ...     270803.0              NA   1.0    111402.0   \n",
      "5992       Yes   ...     310203.0              NA   0.0    500332.0   \n",
      "5993       Yes   ...     321016.0              NA  99.0    115407.0   \n",
      "5994         NA  ...     320704.0              NA   1.0     77987.0   \n",
      "5995       Yes   ...     430102.0              NA   1.0     10402.0   \n",
      "5996         NA  ...           NA              NA   0.0    102602.0   \n",
      "5997       Yes   ...     321204.0              NA   2.0     68587.0   \n",
      "5998         NA  ...           NA              NA   0.0     16757.0   \n",
      "5999         NA  ...     321029.0              NA   0.0     34537.0   \n",
      "\n",
      "     Grant.Category.Code Faculty.No..1                  Role.1 Dept.No..1  \\\n",
      "0                    50A          31.0      CHIEF_INVESTIGATOR     3098.0   \n",
      "1                    10A          25.0      CHIEF_INVESTIGATOR     2553.0   \n",
      "2                     NA          25.0      CHIEF_INVESTIGATOR     2813.0   \n",
      "3                    20C          25.0      CHIEF_INVESTIGATOR     2553.0   \n",
      "4                    30B          25.0      CHIEF_INVESTIGATOR     2923.0   \n",
      "5                    30B          25.0      CHIEF_INVESTIGATOR     2568.0   \n",
      "6                    50A           7.0      CHIEF_INVESTIGATOR      593.0   \n",
      "7                    10A           7.0      CHIEF_INVESTIGATOR      528.0   \n",
      "8                    30C            NA  EXT_CHIEF_INVESTIGATOR         NA   \n",
      "9                     NA          25.0      CHIEF_INVESTIGATOR     2578.0   \n",
      "10                   30B          25.0      CHIEF_INVESTIGATOR     2668.0   \n",
      "11                    NA          46.0      CHIEF_INVESTIGATOR     2298.0   \n",
      "12                   30C          25.0      CHIEF_INVESTIGATOR     2768.0   \n",
      "13                   10A          25.0      CHIEF_INVESTIGATOR     2523.0   \n",
      "14                   30B          13.0      CHIEF_INVESTIGATOR     1528.0   \n",
      "15                   30B          25.0      CHIEF_INVESTIGATOR     2578.0   \n",
      "16                   30B           7.0      CHIEF_INVESTIGATOR      528.0   \n",
      "17                   30B          25.0      CHIEF_INVESTIGATOR     2558.0   \n",
      "18                   10A           7.0      CHIEF_INVESTIGATOR      803.0   \n",
      "19                   30B          25.0      CHIEF_INVESTIGATOR     2813.0   \n",
      "20                   30C          31.0      CHIEF_INVESTIGATOR     3268.0   \n",
      "21                   10A          25.0      CHIEF_INVESTIGATOR     2653.0   \n",
      "22                   10A            NA  EXT_CHIEF_INVESTIGATOR         NA   \n",
      "23                   30D           7.0      CHIEF_INVESTIGATOR      828.0   \n",
      "24                   30B          25.0      CHIEF_INVESTIGATOR     2563.0   \n",
      "25                    NA          34.0      CHIEF_INVESTIGATOR     1258.0   \n",
      "26                   10A           7.0      CHIEF_INVESTIGATOR      603.0   \n",
      "27                   20C           1.0      CHIEF_INVESTIGATOR      998.0   \n",
      "28                   20A          25.0      CHIEF_INVESTIGATOR     2568.0   \n",
      "29                   10A          25.0      CHIEF_INVESTIGATOR     2653.0   \n",
      "...                  ...           ...                     ...        ...   \n",
      "5970                 50A          25.0      CHIEF_INVESTIGATOR     2678.0   \n",
      "5971                 50A          25.0      CHIEF_INVESTIGATOR     2853.0   \n",
      "5972                 30B          25.0      CHIEF_INVESTIGATOR     2813.0   \n",
      "5973                  NA          19.0      CHIEF_INVESTIGATOR     2253.0   \n",
      "5974                 10A           1.0                HONVISIT     1033.0   \n",
      "5975                 10A            NA  EXT_CHIEF_INVESTIGATOR         NA   \n",
      "5976                 10A           7.0      CHIEF_INVESTIGATOR      653.0   \n",
      "5977                 10A            NA  EXT_CHIEF_INVESTIGATOR         NA   \n",
      "5978                 50A          25.0      CHIEF_INVESTIGATOR     2678.0   \n",
      "5979                 20C          31.0      CHIEF_INVESTIGATOR     3198.0   \n",
      "5980                 50A          19.0      CHIEF_INVESTIGATOR     2103.0   \n",
      "5981                 10A          25.0      CHIEF_INVESTIGATOR     2853.0   \n",
      "5982                 20C          31.0      CHIEF_INVESTIGATOR     3198.0   \n",
      "5983                  NA          25.0      CHIEF_INVESTIGATOR     2523.0   \n",
      "5984                 10A          31.0      CHIEF_INVESTIGATOR     3048.0   \n",
      "5985                  NA           4.0      CHIEF_INVESTIGATOR     3508.0   \n",
      "5986                 50A          19.0      CHIEF_INVESTIGATOR     2253.0   \n",
      "5987                 10A            NA  EXT_CHIEF_INVESTIGATOR         NA   \n",
      "5988                  NA          25.0      CHIEF_INVESTIGATOR     2768.0   \n",
      "5989                  NA          31.0      CHIEF_INVESTIGATOR     3028.0   \n",
      "5990                 30B           4.0      CHIEF_INVESTIGATOR     3508.0   \n",
      "5991                 10A          34.0      CHIEF_INVESTIGATOR     1258.0   \n",
      "5992                  NA           4.0      CHIEF_INVESTIGATOR     3508.0   \n",
      "5993                 50A          25.0    PRINCIPAL_SUPERVISOR     2878.0   \n",
      "5994                 10A          25.0      CHIEF_INVESTIGATOR     2498.0   \n",
      "5995                 50A           7.0      CHIEF_INVESTIGATOR      653.0   \n",
      "5996                 10A            NA      CHIEF_INVESTIGATOR         NA   \n",
      "5997                 30C          25.0      CHIEF_INVESTIGATOR     2523.0   \n",
      "5998                  NA         118.0      CHIEF_INVESTIGATOR     1798.0   \n",
      "5999                 10A          25.0      CHIEF_INVESTIGATOR     2778.0   \n",
      "\n",
      "     Contract.Value.Band...see.note.A   A.1  \n",
      "0                                  A    4.0  \n",
      "1                                  D    2.0  \n",
      "2                                  NA   7.0  \n",
      "3                                  A    6.0  \n",
      "4                                  NA   0.0  \n",
      "5                                  A    1.0  \n",
      "6                                  A    2.0  \n",
      "7                                  D    2.0  \n",
      "8                                  A     NA  \n",
      "9                                  C   21.0  \n",
      "10                                 A    0.0  \n",
      "11                                 NA   0.0  \n",
      "12                                 B    0.0  \n",
      "13                                 F    7.0  \n",
      "14                                 NA   1.0  \n",
      "15                                 NA  10.0  \n",
      "16                                 A    4.0  \n",
      "17                                 B    7.0  \n",
      "18                                 D    4.0  \n",
      "19                                 NA   0.0  \n",
      "20                                 A    3.0  \n",
      "21                                 G    6.0  \n",
      "22                                 NA    NA  \n",
      "23                                 NA   4.0  \n",
      "24                                 A    4.0  \n",
      "25                                 B    0.0  \n",
      "26                                 A    0.0  \n",
      "27                                 G    1.0  \n",
      "28                                 NA  14.0  \n",
      "29                                 NA   1.0  \n",
      "...                               ...   ...  \n",
      "5970                               A    0.0  \n",
      "5971                               A    0.0  \n",
      "5972                               NA   0.0  \n",
      "5973                               A    0.0  \n",
      "5974                               C    0.0  \n",
      "5975                               G     NA  \n",
      "5976                               C    0.0  \n",
      "5977                               D     NA  \n",
      "5978                               A    0.0  \n",
      "5979                               C    7.0  \n",
      "5980                               A    1.0  \n",
      "5981                               G   10.0  \n",
      "5982                               A    6.0  \n",
      "5983                               A    0.0  \n",
      "5984                               NA   5.0  \n",
      "5985                               A    0.0  \n",
      "5986                               A    0.0  \n",
      "5987                               NA    NA  \n",
      "5988                               A    0.0  \n",
      "5989                               A   13.0  \n",
      "5990                               NA   2.0  \n",
      "5991                               NA   2.0  \n",
      "5992                               A    0.0  \n",
      "5993                               A   24.0  \n",
      "5994                               NA   2.0  \n",
      "5995                               NA   1.0  \n",
      "5996                               NA   1.0  \n",
      "5997                               A    2.0  \n",
      "5998                               A    0.0  \n",
      "5999                               NA   0.0  \n",
      "\n",
      "[6000 rows x 25 columns]\n"
     ]
    }
   ],
   "source": [
    "X_cat = data[categorical_cols]\n",
    "X_cat = X_cat.fillna('NA').applymap(str)\n",
    "\n",
    "print X_cat"
   ]
  },
  {
   "cell_type": "markdown",
   "metadata": {},
   "source": [
    "## Transformation of categorical features"
   ]
  },
  {
   "cell_type": "markdown",
   "metadata": {},
   "source": [
    "In the previous cell, I've divided our data set into two parts: one contains only physical characteristics, the other only categorical ones. It will be necessary to separate subsequent processing of this data, as well as for comparing the quality of work of certain methods.\n",
    "\n",
    "To use the regression model, it also needed to convert the categorical characteristics into real ones. Let's consider the basic way of transformation categorical attributes in real: one-hot encoding. \n"
   ]
  },
  {
   "cell_type": "code",
   "execution_count": 11,
   "metadata": {
    "collapsed": false
   },
   "outputs": [],
   "source": [
    "from sklearn.linear_model import LogisticRegression as LR\n",
    "from sklearn.feature_extraction import DictVectorizer as DV\n",
    "encoder = DV(sparse = False)\n",
    "X_cat_oh = encoder.fit_transform(X_cat.T.to_dict().values())"
   ]
  },
  {
   "cell_type": "markdown",
   "metadata": {},
   "source": [
    "To build a quality metric from the result of learning, you need to divide the original dataset into learning and test samples."
   ]
  },
  {
   "cell_type": "code",
   "execution_count": 12,
   "metadata": {
    "collapsed": false
   },
   "outputs": [
    {
     "name": "stderr",
     "output_type": "stream",
     "text": [
      "/Users/VB/anaconda/lib/python2.7/site-packages/sklearn/cross_validation.py:41: DeprecationWarning: This module was deprecated in version 0.18 in favor of the model_selection module into which all the refactored classes and functions are moved. Also note that the interface of the new CV iterators are different from that of this module. This module will be removed in 0.20.\n",
      "  \"This module will be removed in 0.20.\", DeprecationWarning)\n"
     ]
    }
   ],
   "source": [
    "from sklearn.cross_validation import train_test_split\n",
    "\n",
    "(X_train_real_zeros, X_test_real_zeros,y_train, y_test) = train_test_split(X_real_zeros, y, test_size=0.3, random_state=0)\n",
    "(X_train_real_mean, X_test_real_mean) = train_test_split(X_real_mean, test_size=0.3, random_state=0)\n",
    "(X_train_cat_oh, X_test_cat_oh) = train_test_split(X_cat_oh, test_size=0.3, random_state=0)\n"
   ]
  },
  {
   "cell_type": "markdown",
   "metadata": {},
   "source": [
    "## Classes description"
   ]
  },
  {
   "cell_type": "markdown",
   "metadata": {},
   "source": [
    "So, we got the first data sets for which both logistic regression constraints on the input data are met. Now let's teach regression on them, using the functional available in the library sklearn for the selection of hyperparameters of the model (optimizer = GridSearchCV(estimator, param_grid))\n",
    "    \n",
    "    optimizer = GridSearchCV(estimator, param_grid)\n",
    "\n",
    "The logistic regression class looks like this:\n",
    "\n",
    "     estimator = LogisticRegression (penalty)\n",
    "   \n",
    "where the penalty takes either 'l2' or 'l1'. The default value is 'l2', and everywhere in the job, unless specified otherwise, the use of logistic regression with L2-regularization is assumed."
   ]
  },
  {
   "cell_type": "markdown",
   "metadata": {},
   "source": [
    "##  Comparison of ways to fill in real missing values.\n",
    "1. Now let's form two training samples from real and categorical features: in one missing values (of numerical features) would be filled with zeros, in the other - with mean values.\n",
    "\n",
    "2. Will train them on the logistic regression by selecting parameters from the specified param_grid grid using the cross-validation method with the number of folds cv = 3.\n",
    "\n",
    "3. And, finally, compare the AUC_ROC values to determine which method is better. \n",
    "\n",
    "Note: in general, it is not entirely logical to optimize on the cross-validation the default accuracy in the logistic regression class, and measure it on the AUC ROC test, but this, like the sample size limitation, is done to speed up the cross-validation process."
   ]
  },
  {
   "cell_type": "code",
   "execution_count": 13,
   "metadata": {
    "collapsed": false
   },
   "outputs": [
    {
     "name": "stdout",
     "output_type": "stream",
     "text": [
      "(4200, 5606)\n",
      "(4200, 5593)\n",
      "(6000, 5593)\n",
      "(4200, 13)\n",
      "(4200, 13)\n",
      "(4200, 5593)\n",
      "(4200, 5606)\n"
     ]
    }
   ],
   "source": [
    "X_real_zeros_aggr = np.hstack((X_train_real_zeros,X_train_cat_oh))\n",
    "X_real_zeros_aggr_test = np.hstack((X_test_real_zeros,X_test_cat_oh))\n",
    "\n",
    "X_real_mean_aggr = np.hstack((X_train_real_mean,X_train_cat_oh))\n",
    "X_real_mean_aggr_test = np.hstack((X_test_real_mean,X_test_cat_oh))\n",
    "\n",
    "print X_real_mean_aggr.shape\n",
    "print X_train_cat_oh.shape\n",
    "print X_cat_oh.shape\n",
    "print X_train_real_zeros.shape\n",
    "print X_train_real_mean.shape\n",
    "print X_train_cat_oh.shape\n",
    "print X_real_zeros_aggr.shape"
   ]
  },
  {
   "cell_type": "code",
   "execution_count": 14,
   "metadata": {
    "collapsed": false
   },
   "outputs": [
    {
     "name": "stderr",
     "output_type": "stream",
     "text": [
      "/Users/VB/anaconda/lib/python2.7/site-packages/sklearn/grid_search.py:42: DeprecationWarning: This module was deprecated in version 0.18 in favor of the model_selection module into which all the refactored classes and functions are moved. This module will be removed in 0.20.\n",
      "  DeprecationWarning)\n"
     ]
    },
    {
     "data": {
      "image/png": "[encoded data removed]",
      "text/plain": [
       "<matplotlib.figure.Figure at 0x111ff8f50>"
      ]
     },
     "metadata": {},
     "output_type": "display_data"
    },
    {
     "name": "stdout",
     "output_type": "stream",
     "text": [
      "0.8844491932819486\n"
     ]
    },
    {
     "data": {
      "image/png": "[encoded data removed]",
      "text/plain": [
       "<matplotlib.figure.Figure at 0x1046ec190>"
      ]
     },
     "metadata": {},
     "output_type": "display_data"
    },
    {
     "name": "stdout",
     "output_type": "stream",
     "text": [
      "0.8876664138261291\n"
     ]
    },
    {
     "data": {
      "text/plain": [
       "array([0.75616691, 0.38150805, 0.44515437, ..., 0.47759155, 0.95424254,\n",
       "       0.85674248])"
      ]
     },
     "execution_count": 14,
     "metadata": {},
     "output_type": "execute_result"
    }
   ],
   "source": [
    "from sklearn.linear_model import LogisticRegression\n",
    "from sklearn.grid_search import GridSearchCV\n",
    "from sklearn.metrics import roc_auc_score\n",
    "\n",
    "def plot_scores(optimizer):\n",
    "    scores = [[item[0]['C'], \n",
    "               item[1], \n",
    "               (np.sum((item[2]-item[1])**2)/(item[2].size-1))**0.5] for item in optimizer.grid_scores_]\n",
    "    scores = np.array(scores)\n",
    "    plt.semilogx(scores[:,0], scores[:,1])\n",
    "    plt.fill_between(scores[:,0], scores[:,1]-scores[:,2], \n",
    "                                  scores[:,1]+scores[:,2], alpha=0.3)\n",
    "    plt.show()\n",
    "    \n",
    "def write_answer_1(auc_1, auc_2):\n",
    "    auc = (auc_1 + auc_2)/2\n",
    "    with open(\"preprocessing_lr_answer1.txt\", \"w\") as fout:\n",
    "        fout.write(str(auc))\n",
    "        \n",
    "param_grid = {'C': [0.01, 0.05, 0.1, 0.5, 1, 5, 10]}\n",
    "cv = 3\n",
    "estimator = LogisticRegression('l2')\n",
    "optimizer = GridSearchCV(estimator=estimator, param_grid=param_grid, cv=3)\n",
    "\n",
    "optimizer.fit(X_real_zeros_aggr, y_train) # Выборка с нулями (ответ 2)\n",
    "plot_scores(optimizer)\n",
    "auc_1 = roc_auc_score(y_test, optimizer.predict_proba(X_real_zeros_aggr_test)[:,1])\n",
    "print auc_1 \n",
    "\n",
    "optimizer.fit(X_real_mean_aggr, y_train) # Выборка со средними (ответ 1)\n",
    "plot_scores(optimizer)\n",
    "auc_2 = roc_auc_score(y_test, optimizer.predict_proba(X_real_mean_aggr_test)[:,1])\n",
    "print auc_2 \n",
    "\n",
    "write_answer_1(auc_2,auc_1)\n",
    "\n",
    "optimizer.predict_proba(X_real_zeros_aggr)[:,1]\n"
   ]
  },
  {
   "cell_type": "markdown",
   "metadata": {},
   "source": [
    "### Features scaling"
   ]
  },
  {
   "cell_type": "markdown",
   "metadata": {},
   "source": [
    "Let's try somehow to improve the quality of the classification. To do this, let's look at the data itself:"
   ]
  },
  {
   "cell_type": "code",
   "execution_count": 15,
   "metadata": {
    "collapsed": false
   },
   "outputs": [
    {
     "name": "stderr",
     "output_type": "stream",
     "text": [
      "/Users/VB/anaconda/lib/python2.7/site-packages/ipykernel/__main__.py:5: FutureWarning: 'pandas.tools.plotting.scatter_matrix' is deprecated, import 'pandas.plotting.scatter_matrix' instead.\n"
     ]
    },
    {
     "data": {
      "image/png": "[encoded data removed]",
      "text/plain": [
       "<matplotlib.figure.Figure at 0x111fdda90>"
      ]
     },
     "metadata": {},
     "output_type": "display_data"
    }
   ],
   "source": [
    "from pandas.tools.plotting import scatter_matrix\n",
    "\n",
    "data_numeric = pd.DataFrame(X_train_real_zeros, columns=numeric_cols)\n",
    "list_cols = ['Number.of.Successful.Grant.1', 'SEO.Percentage.2', 'Year.of.Birth.1']\n",
    "scatter_matrix(data_numeric[list_cols], alpha=0.5, figsize=(10, 10))\n",
    "plt.show()"
   ]
  },
  {
   "cell_type": "markdown",
   "metadata": {},
   "source": [
    "As can be seen from the graphs, different characteristics vary greatly in absolute of values.\n",
    "\n",
    "Standardization is carried out by deducting from each characteristic the mean value and normalization for a sample standard deviation:\n",
    "\n",
    "$$ x^{scaled}_{id} = \\dfrac{x_{id} - \\mu_d}{\\sigma_d}, \\quad \\mu_d = \\frac{1}{N} \\sum_{i=1}^l x_{id}, \\quad \\sigma_d = \\sqrt{\\frac{1}{N-1} \\sum_{i=1}^l (x_{id} - \\mu_d)^2} $$"
   ]
  },
  {
   "cell_type": "code",
   "execution_count": 16,
   "metadata": {
    "collapsed": false
   },
   "outputs": [],
   "source": [
    "from sklearn.preprocessing import StandardScaler\n",
    "scaler = StandardScaler().fit(X_train_real_zeros)\n",
    "X_train_real_scaled = scaler.transform(X_train_real_zeros)\n",
    "\n",
    "scaler2 = StandardScaler().fit(X_test_real_zeros)\n",
    "X_test_real_scaled = scaler.transform(X_test_real_zeros)\n",
    "\n",
    "\n",
    "\n"
   ]
  },
  {
   "cell_type": "markdown",
   "metadata": {},
   "source": [
    "## Comparison of feature spaces"
   ]
  },
  {
   "cell_type": "code",
   "execution_count": 17,
   "metadata": {
    "collapsed": false
   },
   "outputs": [
    {
     "name": "stderr",
     "output_type": "stream",
     "text": [
      "/Users/VB/anaconda/lib/python2.7/site-packages/ipykernel/__main__.py:3: FutureWarning: 'pandas.tools.plotting.scatter_matrix' is deprecated, import 'pandas.plotting.scatter_matrix' instead.\n",
      "  app.launch_new_instance()\n"
     ]
    },
    {
     "data": {
      "image/png": "[encoded data removed]",
      "text/plain": [
       "<matplotlib.figure.Figure at 0x112ba0510>"
      ]
     },
     "metadata": {},
     "output_type": "display_data"
    }
   ],
   "source": [
    "data_numeric_scaled = pd.DataFrame(X_train_real_scaled, columns=numeric_cols)\n",
    "list_cols = ['Number.of.Successful.Grant.1', 'SEO.Percentage.2', 'Year.of.Birth.1']\n",
    "scatter_matrix(data_numeric_scaled[list_cols], alpha=0.5, figsize=(10, 10))\n",
    "plt.show()"
   ]
  },
  {
   "cell_type": "markdown",
   "metadata": {},
   "source": [
    "As can be seen from the graphs, the properties of the characteristic space don't changed, but all values are now in approximately the same range, thereby increasing the interpretation of results, and also better combined with the ideology of regularization."
   ]
  },
  {
   "cell_type": "markdown",
   "metadata": {},
   "source": [
    "## Comparison of the quality of classification before and after scaling\n",
    "\n"
   ]
  },
  {
   "cell_type": "code",
   "execution_count": 18,
   "metadata": {
    "collapsed": false
   },
   "outputs": [
    {
     "data": {
      "image/png": "[encoded data removed]",
      "text/plain": [
       "<matplotlib.figure.Figure at 0x111ff8a90>"
      ]
     },
     "metadata": {},
     "output_type": "display_data"
    },
    {
     "name": "stdout",
     "output_type": "stream",
     "text": [
      "0.885044379082622\n"
     ]
    }
   ],
   "source": [
    "def write_answer_2(auc):\n",
    "    with open(\"preprocessing_lr_answer2.txt\", \"w\") as fout:\n",
    "        fout.write(str(auc))\n",
    "    \n",
    "X_train_real_scaled_aggr = np.hstack((X_train_real_scaled,X_train_cat_oh))\n",
    "X_test_real_scaled_aggr = np.hstack((X_test_real_scaled,X_test_cat_oh))\n",
    "\n",
    "param_grid = {'C': [0.01, 0.05, 0.1, 0.5, 1, 5, 10]}\n",
    "cv = 3\n",
    "estimator = LogisticRegression('l2')\n",
    "optimizer = GridSearchCV(estimator=estimator, param_grid=param_grid, cv=3)\n",
    "\n",
    "optimizer.fit(X_train_real_scaled_aggr, y_train) \n",
    "plot_scores(optimizer)\n",
    "auc_1 = roc_auc_score(y_test, optimizer.predict_proba(X_test_real_scaled_aggr)[:,1])\n",
    "print auc_1 \n",
    "\n",
    "\n",
    "write_answer_2(auc_1)\n"
   ]
  },
  {
   "cell_type": "markdown",
   "metadata": {},
   "source": [
    "## Classes balancing"
   ]
  },
  {
   "cell_type": "markdown",
   "metadata": {},
   "source": [
    "Algorithms of classification can be very sensitive to unbalanced classes.\n",
    "Let's see if the classes are balanced in our training sample:"
   ]
  },
  {
   "cell_type": "code",
   "execution_count": 19,
   "metadata": {
    "collapsed": false
   },
   "outputs": [
    {
     "name": "stdout",
     "output_type": "stream",
     "text": [
      "2316\n",
      "1884\n"
     ]
    }
   ],
   "source": [
    "print(np.sum(y_train==0))\n",
    "print(np.sum(y_train==1))"
   ]
  },
  {
   "cell_type": "markdown",
   "metadata": {},
   "source": [
    "There are several ways to correct the situation, I will consider two of them:\n",
    "- to give objects of a minority class a greater weight when training a classifier (discussed in the example above)\n",
    "- to add some objects to the sample of the minority class until the number of objects in both classes become equal"
   ]
  },
  {
   "cell_type": "code",
   "execution_count": 20,
   "metadata": {
    "collapsed": false
   },
   "outputs": [
    {
     "name": "stdout",
     "output_type": "stream",
     "text": [
      "(4200, 5606)\n",
      "0.8871850681370189\n",
      "(4200, 5606)\n",
      "(432, 5606)\n",
      "(4200,)\n",
      "(4632,)\n",
      "(4632, 5606)\n",
      "0.8832711956057716\n"
     ]
    }
   ],
   "source": [
    "import warnings\n",
    "warnings.filterwarnings(\"ignore\", category=DeprecationWarning)\n",
    "\n",
    "def write_answer_3(auc_1, auc_2):\n",
    "    auc = (auc_1 + auc_2) / 2\n",
    "    with open(\"preprocessing_lr_answer3.txt\", \"w\") as fout:\n",
    "        fout.write(str(auc))\n",
    "        \n",
    "print X_train_real_scaled_aggr.shape\n",
    "optimizer = GridSearchCV(LogisticRegression(class_weight='balanced'), param_grid, cv=cv)\n",
    "optimizer.fit(X_train_real_scaled_aggr, y_train)\n",
    "auc_1 = roc_auc_score(y_test, optimizer.predict_proba(X_test_real_scaled_aggr)[:,1])\n",
    "print auc_1 \n",
    "\n",
    "\n",
    "np.random.seed(0)\n",
    "indices_to_add = np.random.randint(len(y_train[y_train==1]),size = len(y_train[y_train==0])-len(y_train[y_train==1]))\n",
    "X_train_real_scaled_aggr_to_add = X_train_real_scaled_aggr[y_train.as_matrix() == 1,:][indices_to_add,:]\n",
    "print X_train_real_scaled_aggr.shape\n",
    "print X_train_real_scaled_aggr_to_add.shape\n",
    "y_train2 = np.concatenate((y_train,np.ones(len(indices_to_add))),axis=0)\n",
    "print y_train.shape\n",
    "print y_train2.shape\n",
    "\n",
    "optimizer = GridSearchCV(LogisticRegression(class_weight=None), param_grid = param_grid, cv = cv)\n",
    "\n",
    "X_train_scaled_aggr_added = np.vstack((X_train_real_scaled_aggr,X_train_real_scaled_aggr_to_add))\n",
    "print X_train_scaled_aggr_added.shape\n",
    "optimizer.fit(X_train_scaled_aggr_added, y_train2)\n",
    "\n",
    "auc_2 = roc_auc_score(y_test, optimizer.predict_proba(X_test_real_scaled_aggr)[:,1])\n",
    "print auc_2\n",
    "\n"
   ]
  },
  {
   "cell_type": "markdown",
   "metadata": {},
   "source": [
    "## Samples stratification"
   ]
  },
  {
   "cell_type": "markdown",
   "metadata": {},
   "source": [
    "\n",
    "\n",
    "1. By analogy with the way it was done at the beginning of the notebook, let's break the samples X_real_zeros and X_cat_oh into the training and test, passing to the function\n",
    "        train_test_split (...)\n",
    "   optional parameter\n",
    "       stratify = y\n",
    "2. After this, I'm going to scale the new real samples, train the classifier and its hyperparameters using the cross-validation method, making corrections for unbalanced classes using scales. \n",
    "3. Evaluate the quality of the AUC ROC metric in the test sample.\n"
   ]
  },
  {
   "cell_type": "code",
   "execution_count": 21,
   "metadata": {
    "collapsed": false
   },
   "outputs": [
    {
     "name": "stdout",
     "output_type": "stream",
     "text": [
      "0.8793487130496221\n"
     ]
    }
   ],
   "source": [
    "def write_answer_4(auc):\n",
    "    with open(\"preprocessing_lr_answer4.txt\", \"w\") as fout:\n",
    "        fout.write(str(auc))\n",
    "        \n",
    "(X_train_real_zeros, X_test_real_zeros,y_train, y_test) = train_test_split(X_real_zeros, y, test_size=0.3, stratify=y, random_state=0)\n",
    "(X_train_cat_oh, X_test_cat_oh) = train_test_split(X_cat_oh, test_size=0.3, stratify=y, random_state=0)\n",
    "\n",
    "from sklearn.preprocessing import StandardScaler\n",
    "scaler = StandardScaler().fit(X_train_real_zeros)\n",
    "X_train_real_scaled = scaler.transform(X_train_real_zeros)\n",
    "scaler2 = StandardScaler().fit(X_test_real_zeros)\n",
    "X_test_real_scaled = scaler.transform(X_test_real_zeros)\n",
    "\n",
    "X_train_real_scaled_aggr = np.hstack((X_train_real_scaled,X_train_cat_oh))\n",
    "X_test_real_scaled_aggr = np.hstack((X_test_real_scaled,X_test_cat_oh))\n",
    "\n",
    "optimizer = GridSearchCV(LogisticRegression(class_weight='balanced'), param_grid, cv=cv)\n",
    "optimizer.fit(X_train_real_scaled_aggr, y_train)\n",
    "auc_1 = roc_auc_score(y_test, optimizer.predict_proba(X_test_real_scaled_aggr)[:,1])\n",
    "\n",
    "print auc_1\n",
    "\n"
   ]
  },
  {
   "cell_type": "markdown",
   "metadata": {},
   "source": [
    "Now we have dealt with the main stages of data preprocessing for linear classifiers.\n",
    "The main stages:\n",
    "- processing of missing values\n",
    "- handling of categorical attributes\n",
    "- stratification\n",
    "- class balancing\n",
    "- scaling\n",
    "\n",
    "These data actions are recommended to be performed whenever you plan to use linear methods. The recommendation to fulfill many of these points is valid for other methods of machine learning."
   ]
  }
 ],
 "metadata": {
  "anaconda-cloud": {},
  "kernelspec": {
   "display_name": "Python [default]",
   "language": "python",
   "name": "python2"
  },
  "language_info": {
   "codemirror_mode": {
    "name": "ipython",
    "version": 2
   },
   "file_extension": ".py",
   "mimetype": "text/x-python",
   "name": "python",
   "nbconvert_exporter": "python",
   "pygments_lexer": "ipython2",
   "version": "2.7.12"
  }
 },
 "nbformat": 4,
 "nbformat_minor": 0
}
